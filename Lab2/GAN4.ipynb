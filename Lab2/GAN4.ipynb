{
 "cells": [
  {
   "cell_type": "code",
   "execution_count": 1,
   "metadata": {},
   "outputs": [
    {
     "name": "stderr",
     "output_type": "stream",
     "text": [
      "2024-04-23 11:58:22.832575: I tensorflow/core/platform/cpu_feature_guard.cc:210] This TensorFlow binary is optimized to use available CPU instructions in performance-critical operations.\n",
      "To enable the following instructions: AVX2 AVX512F FMA, in other operations, rebuild TensorFlow with the appropriate compiler flags.\n"
     ]
    },
    {
     "name": "stdout",
     "output_type": "stream",
     "text": [
      "device is cuda:0\n"
     ]
    }
   ],
   "source": [
    "import torch\n",
    "import torch.nn as nn\n",
    "import torch.optim as optim\n",
    "import torch.nn.functional as F\n",
    "from torch.utils.data import TensorDataset, DataLoader, Dataset, random_split\n",
    "import numpy as np\n",
    "from matplotlib import pyplot\n",
    "import pandas as pd\n",
    "import matplotlib.pyplot as plt\n",
    "\n",
    "from torchvision import datasets, transforms\n",
    "\n",
    "from torch.utils.tensorboard import SummaryWriter\n",
    "\n",
    "device = torch.device(\"cuda:0\" if torch.cuda.is_available() else \"cpu\")\n",
    "print(\"device is\", device)"
   ]
  },
  {
   "cell_type": "code",
   "execution_count": 2,
   "metadata": {},
   "outputs": [],
   "source": [
    "class Generator(nn.Module):\n",
    "    def __init__(self):\n",
    "        super().__init__()\n",
    "        \n",
    "        self.act = nn.Sigmoid()\n",
    "\n",
    "        # input: 100      \n",
    "        self.fc1 = nn.Linear(in_features=100, out_features=128)    \n",
    "        self.fc2 = nn.Linear(in_features=128, out_features=784)\n",
    "\n",
    "        self.sig = nn.Sigmoid()\n",
    "\n",
    "\n",
    "    \n",
    "    def forward(self, x, num):\n",
    "        x = self.fc1(x) #100->128\n",
    "        x = self.act(x) #128->128\n",
    "        x = self.fc2(x) #128->784\n",
    "        x = self.sig(x) #784->784 (28x28)\n",
    "        return x\n",
    "\n",
    "class Generator_loss(nn.Module):\n",
    "    def __init__(self):\n",
    "        super(Generator_loss, self).__init__()\n",
    "\n",
    "    def forward(self, output_fake):\n",
    "        loss = -torch.log(output_fake)\n",
    "        return loss.mean()\n",
    "    \n",
    "class Discriminator(nn.Module):\n",
    "    def __init__(self):\n",
    "        super().__init__()\n",
    "        \n",
    "        self.act = nn.ReLU()\n",
    "\n",
    "        # input: 784     \n",
    "        self.fc1 = nn.Linear(in_features=784, out_features=128) \n",
    "        self.fc2 = nn.Linear(in_features=128, out_features=1)\n",
    "\n",
    "        self.sig = nn.Sigmoid()\n",
    "\n",
    "    def forward(self, x, num):\n",
    "        x = self.fc1(x) #784->128\n",
    "        x = self.act(x) #128->128\n",
    "        x = self.fc2(x) #128->1\n",
    "        x = self.sig(x) #1->1\n",
    "        return x\n",
    "    \n",
    "class Discriminator_loss(nn.Module):\n",
    "    def __init__(self):\n",
    "        super(Discriminator_loss, self).__init__()\n",
    "\n",
    "    def forward(self, output_real, output_fake):\n",
    "        loss = -(torch.log(output_real)+torch.log(1-output_fake))\n",
    "        return loss.mean()"
   ]
  },
  {
   "cell_type": "code",
   "execution_count": 3,
   "metadata": {},
   "outputs": [
    {
     "data": {
      "image/png": "[encoded data removed]",
      "text/plain": [
       "<Figure size 640x480 with 1 Axes>"
      ]
     },
     "metadata": {},
     "output_type": "display_data"
    }
   ],
   "source": [
    "# Define the mini-batch size\n",
    "batch_size = 100\n",
    "\n",
    "# Download the dataset and create the dataloaders\n",
    "mnist_train = datasets.MNIST(\"./\", train=True, download=True, transform=transforms.ToTensor())\n",
    "mnist_test = datasets.MNIST(\"./\", train=False, download=True, transform=transforms.ToTensor())\n",
    "\n",
    "# Dataset is split 8:2\n",
    "train_size = int(0.8 * len(mnist_train))\n",
    "val_size = len(mnist_train) - train_size\n",
    "mnist_train, mnist_val = random_split(mnist_train, [train_size, val_size])\n",
    "\n",
    "train_loader = torch.utils.data.DataLoader(mnist_train, batch_size=batch_size, shuffle=False)\n",
    "test_loader = torch.utils.data.DataLoader(mnist_test, batch_size=batch_size, shuffle=False)\n",
    "val_loader = torch.utils.data.DataLoader(mnist_val, batch_size=batch_size, shuffle=False)\n",
    "\n",
    "to_onehot = nn.Embedding(10, 10)\n",
    "to_onehot.weight.data = torch.eye(10)\n",
    "\n",
    "def plot_digit(data):\n",
    "    data = data.view(28, 28)\n",
    "    plt.imshow(data, cmap=\"gray\")\n",
    "\n",
    "    plt.show()\n",
    "\n",
    "images, labels = next(iter(train_loader))\n",
    "plot_digit(images[0])"
   ]
  },
  {
   "cell_type": "code",
   "execution_count": null,
   "metadata": {},
   "outputs": [],
   "source": [
    "def train_models(model_d, criterion_d, optimizer_d, scheduler_d, model_g, criterion_g, optimizer_g, scheduler_g, epochs, train_loader, k, batch_sz):\n",
    "    it = iter(train_loader)\n",
    "    for epoch in range(epochs):\n",
    "          \n",
    "        #Train Discriminator \n",
    "        for batch_nr in range(k):\n",
    "            try:\n",
    "                images,_ = next(it)\n",
    "            except:\n",
    "                it = iter(train_loader)\n",
    "                images,_ = next(it)          \n",
    "            out_real = model_d(torch.flatten(images,start_dim=1).to(device))\n",
    "            out_fake = model_d(model_g(torch.rand(batch_sz,1,100).to(device)))\n",
    "            optimizer_d.zero_grad()\n",
    "            loss_d = criterion_d(out_real,out_fake).to(device)\n",
    "            loss_d.backward()\n",
    "            optimizer_d.step()\n",
    "            scheduler_d.step()\n",
    "\n",
    "        #Train Generator\n",
    "        out_fake = model_d(model_g(torch.rand(batch_sz,1,100).to(device)))\n",
    "        optimizer_g.zero_grad()\n",
    "        loss_g = criterion_g(out_fake).to(device)\n",
    "        loss_g.backward()\n",
    "        optimizer_g.step()\n",
    "        scheduler_g.step()\n",
    "        \n",
    "        disp = model_g(torch.rand(batch_sz,1,100).to(device))\n",
    "        \n",
    "        if epoch%50==0:\n",
    "            print(\"Epoch:\",epoch)  \n",
    "            print(\"loss_g:\",loss_g.item(),\"\\tloss_d:\",loss_d.item())\n",
    "        if epoch%500==0:\n",
    "            plot_digit(torch.reshape(disp[0,0,:],(28,28)).detach().cpu())"
   ]
  },
  {
   "cell_type": "code",
   "execution_count": null,
   "metadata": {},
   "outputs": [],
   "source": [
    "lr = 0.01\n",
    "k = 5\n",
    "epochs = 250000\n",
    "\n",
    "generator = Generator().to(device)\n",
    "disciminator = Discriminator().to(device)\n",
    "\n",
    "optimizer_gen = torch.optim.SGD(generator.parameters(), lr=lr)\n",
    "optimizer_dis = torch.optim.SGD(disciminator.parameters(), lr=lr)\n",
    "\n",
    "criterion_gen = Generator_loss()\n",
    "criterion_dis = Discriminator_loss()\n",
    "\n",
    "scheduler_gen = torch.optim.lr_scheduler.StepLR(optimizer_gen, step_size=25, gamma=0.998)\n",
    "scheduler_dis = torch.optim.lr_scheduler.StepLR(optimizer_dis, step_size=25, gamma=0.998)\n",
    "\n",
    "train_models(disciminator, criterion_dis, optimizer_dis, scheduler_dis, generator, criterion_gen, optimizer_gen, scheduler_gen, epochs, train_loader, k, batch_size)"
   ]
  }
 ],
 "metadata": {
  "kernelspec": {
   "display_name": "Python 3 (ipykernel)",
   "language": "python",
   "name": "python3"
  },
  "language_info": {
   "codemirror_mode": {
    "name": "ipython",
    "version": 3
   },
   "file_extension": ".py",
   "mimetype": "text/x-python",
   "name": "python",
   "nbconvert_exporter": "python",
   "pygments_lexer": "ipython3",
   "version": "3.11.0rc1"
  }
 },
 "nbformat": 4,
 "nbformat_minor": 4
}
